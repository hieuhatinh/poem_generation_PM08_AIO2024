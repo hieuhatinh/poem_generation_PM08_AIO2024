{
  "cells": [
    {
      "cell_type": "markdown",
      "metadata": {
        "id": "sL6Wk_z_fl6O"
      },
      "source": [
        "### Tải thư viện Selenium\n",
        "- Đối với máy tính cá nhân dùng lệnh: `pip install selenium webdriver_manager`\n",
        "- Đối với colab, sử dụng cell bên dưới để tải selenium"
      ]
    },
    {
      "cell_type": "code",
      "execution_count": null,
      "metadata": {
        "id": "TJ8Hgtxie3oU"
      },
      "outputs": [],
      "source": [
        "# %%shell\n",
        "# # Ubuntu no longer distributes chromium-browser outside of snap\n",
        "# #\n",
        "# # Proposed solution: https://askubuntu.com/questions/1204571/how-to-install-chromium-without-snap\n",
        "\n",
        "# # Add debian buster\n",
        "# cat > /etc/apt/sources.list.d/debian.list << \"EOF\"\n",
        "# deb [arch=amd64 signed-by=/usr/share/keyrings/debian-buster.gpg] http://deb.debian.org/debian buster main\n",
        "# deb [arch=amd64 signed-by=/usr/share/keyrings/debian-buster-updates.gpg] http://deb.debian.org/debian buster-updates main\n",
        "# deb [arch=amd64 signed-by=/usr/share/keyrings/debian-security-buster.gpg] http://deb.debian.org/debian-security buster/updates main\n",
        "# EOF\n",
        "\n",
        "# # Add keys\n",
        "# apt-key adv--keyserver keyserver.ubuntu.com--recv-keys DCC9EFBF77E11517\n",
        "# apt-key adv--keyserver keyserver.ubuntu.com--recv-keys 648ACFD622F3D138\n",
        "# apt-key adv--keyserver keyserver.ubuntu.com--recv-keys 112695A0E562B32A\n",
        "\n",
        "# apt-key export 77E11517 | gpg--dearmour-o /usr/share/keyrings/debian-buster.gpg\n",
        "# apt-key export 22F3D138 | gpg--dearmour-o /usr/share/keyrings/debian-buster-updates.gpg\n",
        "# apt-key export E562B32A | gpg--dearmour-o /usr/share/keyrings/debian-security-buster.gpg\n",
        "\n",
        "# # Prefer debian repo for chromium* packages only\n",
        "# # Note the double-blank lines between entries\n",
        "# cat > /etc/apt/preferences.d/chromium.pref << \"EOF\"\n",
        "# Package: *\n",
        "# Pin: release a=eoan\n",
        "# Pin-Priority: 500\n",
        "\n",
        "\n",
        "# Package: *\n",
        "# Pin: origin \"deb.debian.org\"\n",
        "# Pin-Priority: 300\n",
        "\n",
        "\n",
        "# Package: chromium*\n",
        "# Pin: origin \"deb.debian.org\"\n",
        "# Pin-Priority: 700\n",
        "# EOF\n",
        "\n",
        "# # Install chromium and chromium-driver\n",
        "# apt-get update\n",
        "# apt-get install chromium chromium-driver\n",
        "\n",
        "# # Install selenium\n",
        "# pip install selenium"
      ]
    },
    {
      "cell_type": "markdown",
      "metadata": {
        "id": "zxVnq3m_gIzD"
      },
      "source": [
        "### Import các thư viện cần thiết"
      ]
    },
    {
      "cell_type": "code",
      "execution_count": 1,
      "metadata": {
        "id": "kH5WaM6AgIey"
      },
      "outputs": [],
      "source": [
        "import pandas as pd\n",
        "import re\n",
        "import os\n",
        "import requests\n",
        "import time\n",
        "import random\n",
        "\n",
        "from tqdm import tqdm\n",
        "from selenium import webdriver\n",
        "from selenium.webdriver.chrome.service import Service\n",
        "from selenium.webdriver.common.by import By\n",
        "from selenium.webdriver.support.ui import WebDriverWait\n",
        "from selenium.webdriver.support import expected_conditions as EC"
      ]
    },
    {
      "cell_type": "markdown",
      "metadata": {
        "id": "Ns1quSp3ggLp"
      },
      "source": [
        "### Khởi tạo Selenium driver    \n",
        "Driver trong Selenium đóng vai trò như trình duyệt web, giúp thực hiện các thao tác như truy cập vào trang web dựa vào đường dẫn, thao tác chuyển trang,..."
      ]
    },
    {
      "cell_type": "code",
      "execution_count": 2,
      "metadata": {
        "id": "GSSS0LzNe8ml"
      },
      "outputs": [],
      "source": [
        "WEBDRIVER_DELAY_TIME_INT = 10\n",
        "TIMEOUT_INT = 10\n",
        "service = Service()\n",
        "chrome_options = webdriver.EdgeOptions()\n",
        "chrome_options.add_argument(\"--headless\")\n",
        "chrome_options.add_argument(\"--no-sandbox\")\n",
        "chrome_options.add_argument(\"--disable-dev-shm-usage\")\n",
        "chrome_options.add_argument(\"window-size=1920x1080\")\n",
        "chrome_options.headless = True\n",
        "driver = webdriver.Edge(service=service, options=chrome_options)\n",
        "driver.implicitly_wait(TIMEOUT_INT)\n",
        "wait = WebDriverWait(driver, WEBDRIVER_DELAY_TIME_INT)"
      ]
    },
    {
      "cell_type": "markdown",
      "metadata": {
        "id": "CS3r6PkdgyTL"
      },
      "source": [
        "### Trích xuất nội dung thơ\n",
        "- Dữ liệu về các bài thơ sẽ được lấy từ trang web [thivien.net](https://www.thivien.net/)"
      ]
    },
    {
      "cell_type": "code",
      "execution_count": 3,
      "metadata": {
        "id": "ceKILzjCe8jy"
      },
      "outputs": [
        {
          "data": {
            "text/plain": [
              "100"
            ]
          },
          "execution_count": 3,
          "metadata": {},
          "output_type": "execute_result"
        }
      ],
      "source": [
        "def extract_poem_links(driver, url):\n",
        "    driver.get(url)\n",
        "    content_tags_xpath = '//*[@class=\"page-content container\"]//div[@class=\"page-content-main\"]//div[@class=\"list-item\"]'\n",
        "    content_tags = driver.find_elements(By.XPATH, content_tags_xpath)\n",
        "    \n",
        "    poem_links = []\n",
        "    for tag in content_tags:\n",
        "        try: \n",
        "            link_element = tag.find_element(By.XPATH, './/h4[@class=\"list-item-header\"]/a')\n",
        "            title = link_element.text\n",
        "            link = link_element.get_attribute('href')\n",
        "            poem_links.append({\n",
        "                'title': title, \n",
        "                'link': link\n",
        "            })\n",
        "        except Exception as e: \n",
        "            print(f'Error extracting link: {e}')\n",
        "            continue\n",
        "    return poem_links\n",
        "\n",
        "poem_links = []\n",
        "for i in range(1, 11):\n",
        "    links = extract_poem_links(driver, \n",
        "                           url=f'https://www.thivien.net/searchpoem.php?PoemType=16&ViewType=1&Country=2&Page={i}')\n",
        "    poem_links.extend(links)\n",
        "len(poem_links)"
      ]
    },
    {
      "cell_type": "markdown",
      "metadata": {},
      "source": [
        "#### Tự code"
      ]
    },
    {
      "cell_type": "code",
      "execution_count": 4,
      "metadata": {
        "id": "yXkhh7FUe8hJ"
      },
      "outputs": [],
      "source": [
        "def scrape_poems(driver, num_pages=10):\n",
        "    datasets = [] \n",
        "    for page_idx in tqdm(range(1, num_pages + 1)):\n",
        "        links = extract_poem_links(driver, \n",
        "                            url=f'https://www.thivien.net/searchpoem.php?PoemType=16&ViewType=1&Country=2&Page={page_idx}')\n",
        "    \n",
        "        for poem_link in links: \n",
        "            link = poem_link['link']\n",
        "            try:\n",
        "                driver.get(link)\n",
        "                content = driver.find_element(By.XPATH, '//div[@class=\"poem-content\"]/p')\n",
        "                src_tag = driver.find_element(By.XPATH, '//div[@class=\"small\"]')\n",
        "                poem = {\n",
        "                    'title': poem_link['title'],\n",
        "                    'content': content.text, \n",
        "                    'source': src_tag.text, \n",
        "                    'link': link, \n",
        "                }\n",
        "                datasets.append(poem)\n",
        "            except Exception as e:\n",
        "                print(f'Error processing {link}: {e}')\n",
        "    return datasets  "
      ]
    },
    {
      "cell_type": "code",
      "execution_count": 5,
      "metadata": {
        "id": "6sD3JiPVe8eV"
      },
      "outputs": [
        {
          "name": "stderr",
          "output_type": "stream",
          "text": [
            "  0%|          | 0/10 [00:00<?, ?it/s]"
          ]
        },
        {
          "name": "stdout",
          "output_type": "stream",
          "text": [
            "Error processing https://www.thivien.net/Th%C3%A1i-B%C3%A1-T%C3%A2n/C%C3%A1i-l%C3%A0m-ta-h%E1%BA%A1nh-ph%C3%BAc/poem-t24-M5Dn2cxmEDVSrQhtCw: Message: no such element: Unable to locate element: {\"method\":\"xpath\",\"selector\":\"//div[@class=\"poem-content\"]/p\"}\n",
            "  (Session info: MicrosoftEdge=133.0.3065.92); For documentation on this error, please visit: https://www.selenium.dev/documentation/webdriver/troubleshooting/errors#no-such-element-exception\n",
            "Stacktrace:\n",
            "\tGetHandleVerifier [0x00007FF706D8E735+13397]\n",
            "\tMicrosoft::Applications::Events::EventProperty::empty [0x00007FF70701B234+2060404]\n",
            "\tMicrosoft::Applications::Events::EventProperty::empty [0x00007FF706F72338+1368440]\n",
            "\t(No symbol) [0x00007FF706B632A9]\n",
            "\t(No symbol) [0x00007FF706B6349B]\n",
            "\t(No symbol) [0x00007FF706BA40E7]\n",
            "\t(No symbol) [0x00007FF706B8429F]\n",
            "\t(No symbol) [0x00007FF706B5964D]\n",
            "\t(No symbol) [0x00007FF706BA1C00]\n",
            "\t(No symbol) [0x00007FF706B83FC3]\n",
            "\t(No symbol) [0x00007FF706B58B96]\n",
            "\t(No symbol) [0x00007FF706B57E50]\n",
            "\t(No symbol) [0x00007FF706B589C3]\n",
            "\t(No symbol) [0x00007FF706BE0214]\n",
            "\t(No symbol) [0x00007FF706C706CF]\n",
            "\t(No symbol) [0x00007FF706BE3A53]\n",
            "\tMicrosoft::Applications::Events::EventProperty::to_string [0x00007FF7070D463D+279981]\n",
            "\tsimdutf::get_active_implementation [0x00007FF706D178C1+409425]\n",
            "\tsimdutf::get_active_implementation [0x00007FF706D12BA4+389684]\n",
            "\tsimdutf::get_active_implementation [0x00007FF706D12CE9+390009]\n",
            "\tsimdutf::get_active_implementation [0x00007FF706D062E6+338294]\n",
            "\tBaseThreadInitThunk [0x00007FFA8F1F259D+29]\n",
            "\tRtlUserThreadStart [0x00007FFA90BAAF38+40]\n",
            "\n"
          ]
        },
        {
          "name": "stderr",
          "output_type": "stream",
          "text": [
            " 10%|█         | 1/10 [00:36<05:27, 36.38s/it]"
          ]
        },
        {
          "name": "stdout",
          "output_type": "stream",
          "text": [
            "Error processing https://www.thivien.net/Th%C3%ADch-Thi%E1%BB%81n-T%C3%A2m/L%E1%BA%B7ng-ng%E1%BB%93i-ch%E1%BB%91n-t%C4%A9nh-l%C3%A2u/poem-6510NdSMoamB9S3QMp9AhA: Message: no such element: Unable to locate element: {\"method\":\"xpath\",\"selector\":\"//div[@class=\"poem-content\"]/p\"}\n",
            "  (Session info: MicrosoftEdge=133.0.3065.92); For documentation on this error, please visit: https://www.selenium.dev/documentation/webdriver/troubleshooting/errors#no-such-element-exception\n",
            "Stacktrace:\n",
            "\tGetHandleVerifier [0x00007FF706D8E735+13397]\n",
            "\tMicrosoft::Applications::Events::EventProperty::empty [0x00007FF70701B234+2060404]\n",
            "\tMicrosoft::Applications::Events::EventProperty::empty [0x00007FF706F72338+1368440]\n",
            "\t(No symbol) [0x00007FF706B632A9]\n",
            "\t(No symbol) [0x00007FF706B6349B]\n",
            "\t(No symbol) [0x00007FF706BA40E7]\n",
            "\t(No symbol) [0x00007FF706B8429F]\n",
            "\t(No symbol) [0x00007FF706B5964D]\n",
            "\t(No symbol) [0x00007FF706BA1C00]\n",
            "\t(No symbol) [0x00007FF706B83FC3]\n",
            "\t(No symbol) [0x00007FF706B58B96]\n",
            "\t(No symbol) [0x00007FF706B57E50]\n",
            "\t(No symbol) [0x00007FF706B589C3]\n",
            "\t(No symbol) [0x00007FF706BE0214]\n",
            "\t(No symbol) [0x00007FF706C706CF]\n",
            "\t(No symbol) [0x00007FF706BE3A53]\n",
            "\tMicrosoft::Applications::Events::EventProperty::to_string [0x00007FF7070D463D+279981]\n",
            "\tsimdutf::get_active_implementation [0x00007FF706D178C1+409425]\n",
            "\tsimdutf::get_active_implementation [0x00007FF706D12BA4+389684]\n",
            "\tsimdutf::get_active_implementation [0x00007FF706D12CE9+390009]\n",
            "\tsimdutf::get_active_implementation [0x00007FF706D062E6+338294]\n",
            "\tBaseThreadInitThunk [0x00007FFA8F1F259D+29]\n",
            "\tRtlUserThreadStart [0x00007FFA90BAAF38+40]\n",
            "\n"
          ]
        },
        {
          "name": "stderr",
          "output_type": "stream",
          "text": [
            " 20%|██        | 2/10 [00:57<03:41, 27.69s/it]"
          ]
        },
        {
          "name": "stdout",
          "output_type": "stream",
          "text": [
            "Error processing https://www.thivien.net/Th%C3%A1i-B%C3%A1-T%C3%A2n/Ng%C6%B0%E1%BB%9Di-lu%C3%B4n-mi%E1%BB%87ng-k%C3%AAu-b%E1%BA%ADn/poem-uQlnz134n_GaUSZqo3rBvg: Message: no such element: Unable to locate element: {\"method\":\"xpath\",\"selector\":\"//div[@class=\"poem-content\"]/p\"}\n",
            "  (Session info: MicrosoftEdge=133.0.3065.92); For documentation on this error, please visit: https://www.selenium.dev/documentation/webdriver/troubleshooting/errors#no-such-element-exception\n",
            "Stacktrace:\n",
            "\tGetHandleVerifier [0x00007FF706D8E735+13397]\n",
            "\tMicrosoft::Applications::Events::EventProperty::empty [0x00007FF70701B234+2060404]\n",
            "\tMicrosoft::Applications::Events::EventProperty::empty [0x00007FF706F72338+1368440]\n",
            "\t(No symbol) [0x00007FF706B632A9]\n",
            "\t(No symbol) [0x00007FF706B6349B]\n",
            "\t(No symbol) [0x00007FF706BA40E7]\n",
            "\t(No symbol) [0x00007FF706B8429F]\n",
            "\t(No symbol) [0x00007FF706B5964D]\n",
            "\t(No symbol) [0x00007FF706BA1C00]\n",
            "\t(No symbol) [0x00007FF706B83FC3]\n",
            "\t(No symbol) [0x00007FF706B58B96]\n",
            "\t(No symbol) [0x00007FF706B57E50]\n",
            "\t(No symbol) [0x00007FF706B589C3]\n",
            "\t(No symbol) [0x00007FF706BE0214]\n",
            "\t(No symbol) [0x00007FF706C706CF]\n",
            "\t(No symbol) [0x00007FF706BE3A53]\n",
            "\tMicrosoft::Applications::Events::EventProperty::to_string [0x00007FF7070D463D+279981]\n",
            "\tsimdutf::get_active_implementation [0x00007FF706D178C1+409425]\n",
            "\tsimdutf::get_active_implementation [0x00007FF706D12BA4+389684]\n",
            "\tsimdutf::get_active_implementation [0x00007FF706D12CE9+390009]\n",
            "\tsimdutf::get_active_implementation [0x00007FF706D062E6+338294]\n",
            "\tBaseThreadInitThunk [0x00007FFA8F1F259D+29]\n",
            "\tRtlUserThreadStart [0x00007FFA90BAAF38+40]\n",
            "\n"
          ]
        },
        {
          "name": "stderr",
          "output_type": "stream",
          "text": [
            "100%|██████████| 10/10 [02:44<00:00, 16.41s/it]\n"
          ]
        }
      ],
      "source": [
        "datasets = scrape_poems(driver=driver)"
      ]
    },
    {
      "cell_type": "code",
      "execution_count": 6,
      "metadata": {
        "id": "6zCYT4p5e8bx"
      },
      "outputs": [],
      "source": [
        "# lưu thành file csv\n",
        "df = pd.DataFrame(datasets)\n",
        "df.to_csv('poem_dataset.csv', index=True)"
      ]
    },
    {
      "cell_type": "code",
      "execution_count": 7,
      "metadata": {},
      "outputs": [
        {
          "data": {
            "text/html": [
              "<div>\n",
              "<style scoped>\n",
              "    .dataframe tbody tr th:only-of-type {\n",
              "        vertical-align: middle;\n",
              "    }\n",
              "\n",
              "    .dataframe tbody tr th {\n",
              "        vertical-align: top;\n",
              "    }\n",
              "\n",
              "    .dataframe thead th {\n",
              "        text-align: right;\n",
              "    }\n",
              "</style>\n",
              "<table border=\"1\" class=\"dataframe\">\n",
              "  <thead>\n",
              "    <tr style=\"text-align: right;\">\n",
              "      <th></th>\n",
              "      <th>title</th>\n",
              "      <th>content</th>\n",
              "      <th>source</th>\n",
              "      <th>link</th>\n",
              "    </tr>\n",
              "  </thead>\n",
              "  <tbody>\n",
              "    <tr>\n",
              "      <th>0</th>\n",
              "      <td>“Bạn xấu như chiếc bóng”</td>\n",
              "      <td>Bạn xấu như chiếc bóng\\nCứ bám riết theo anh\\n...</td>\n",
              "      <td>[Thông tin 1 nguồn tham khảo đã được ẩn]</td>\n",
              "      <td>https://www.thivien.net/Th%C3%A1i-B%C3%A1-T%C3...</td>\n",
              "    </tr>\n",
              "    <tr>\n",
              "      <th>1</th>\n",
              "      <td>“Chiều vừa xốp trên tay”</td>\n",
              "      <td>Chiều vừa xốp trên tay\\nChợt nghe thoáng ong b...</td>\n",
              "      <td>[Thông tin 1 nguồn tham khảo đã được ẩn]</td>\n",
              "      <td>https://www.thivien.net/L%C3%A2m-Huy-Nhu%E1%BA...</td>\n",
              "    </tr>\n",
              "    <tr>\n",
              "      <th>2</th>\n",
              "      <td>“Chơi thân không có nghĩa”</td>\n",
              "      <td>Chơi thân không có nghĩa\\nKhông cãi nhau bao g...</td>\n",
              "      <td>[Thông tin 1 nguồn tham khảo đã được ẩn]</td>\n",
              "      <td>https://www.thivien.net/Th%C3%A1i-B%C3%A1-T%C3...</td>\n",
              "    </tr>\n",
              "    <tr>\n",
              "      <th>3</th>\n",
              "      <td>“Có thể buồn chút ít”</td>\n",
              "      <td>Có thể buồn chút ít\\nMột mình, không người yêu...</td>\n",
              "      <td>[Thông tin 1 nguồn tham khảo đã được ẩn]</td>\n",
              "      <td>https://www.thivien.net/Th%C3%A1i-B%C3%A1-T%C3...</td>\n",
              "    </tr>\n",
              "    <tr>\n",
              "      <th>4</th>\n",
              "      <td>“Có thể có ông bố”</td>\n",
              "      <td>Có thể có ông bố\\nKhông yêu con; xưa nay\\nĐã ô...</td>\n",
              "      <td>[Thông tin 1 nguồn tham khảo đã được ẩn]</td>\n",
              "      <td>https://www.thivien.net/Th%C3%A1i-B%C3%A1-T%C3...</td>\n",
              "    </tr>\n",
              "  </tbody>\n",
              "</table>\n",
              "</div>"
            ],
            "text/plain": [
              "                        title  \\\n",
              "0    “Bạn xấu như chiếc bóng”   \n",
              "1    “Chiều vừa xốp trên tay”   \n",
              "2  “Chơi thân không có nghĩa”   \n",
              "3       “Có thể buồn chút ít”   \n",
              "4          “Có thể có ông bố”   \n",
              "\n",
              "                                             content  \\\n",
              "0  Bạn xấu như chiếc bóng\\nCứ bám riết theo anh\\n...   \n",
              "1  Chiều vừa xốp trên tay\\nChợt nghe thoáng ong b...   \n",
              "2  Chơi thân không có nghĩa\\nKhông cãi nhau bao g...   \n",
              "3  Có thể buồn chút ít\\nMột mình, không người yêu...   \n",
              "4  Có thể có ông bố\\nKhông yêu con; xưa nay\\nĐã ô...   \n",
              "\n",
              "                                     source  \\\n",
              "0  [Thông tin 1 nguồn tham khảo đã được ẩn]   \n",
              "1  [Thông tin 1 nguồn tham khảo đã được ẩn]   \n",
              "2  [Thông tin 1 nguồn tham khảo đã được ẩn]   \n",
              "3  [Thông tin 1 nguồn tham khảo đã được ẩn]   \n",
              "4  [Thông tin 1 nguồn tham khảo đã được ẩn]   \n",
              "\n",
              "                                                link  \n",
              "0  https://www.thivien.net/Th%C3%A1i-B%C3%A1-T%C3...  \n",
              "1  https://www.thivien.net/L%C3%A2m-Huy-Nhu%E1%BA...  \n",
              "2  https://www.thivien.net/Th%C3%A1i-B%C3%A1-T%C3...  \n",
              "3  https://www.thivien.net/Th%C3%A1i-B%C3%A1-T%C3...  \n",
              "4  https://www.thivien.net/Th%C3%A1i-B%C3%A1-T%C3...  "
            ]
          },
          "execution_count": 7,
          "metadata": {},
          "output_type": "execute_result"
        }
      ],
      "source": [
        "df.head()"
      ]
    },
    {
      "cell_type": "markdown",
      "metadata": {},
      "source": [
        "#### code AIO"
      ]
    },
    {
      "cell_type": "code",
      "execution_count": 11,
      "metadata": {},
      "outputs": [],
      "source": [
        "def extract_poem_links(driver, page_idx):\n",
        "    main_url = f\"https://www.thivien.net/searchpoem.php?PoemType=16&ViewType=1&Country=2&Age[]=3&Page={page_idx}\"\n",
        "    driver.get(main_url)\n",
        "    time.sleep(random.uniform(3, 5))\n",
        "\n",
        "    content_tags_xpath = '//*[@class=\"page-content container\"]//div[@class=\"page-content-main\"]//div[@class=\"list-item\"]'\n",
        "    content_tags = driver.find_elements(By.XPATH, content_tags_xpath)\n",
        "    poem_links = []\n",
        "    for tag in content_tags:\n",
        "        try:\n",
        "            link_element = tag.find_element(By.XPATH, './/h4[@class=\"list-item-header\"]/a')\n",
        "            poem_title = link_element.text\n",
        "            poem_url = link_element.get_attribute(\"href\")\n",
        "            poem_links.append({\"title\": poem_title, \"url\": poem_url})\n",
        "        except Exception as e:\n",
        "            print(f\"Error extracting link: {e}\")\n",
        "            continue\n",
        "    return poem_links"
      ]
    },
    {
      "cell_type": "code",
      "execution_count": 12,
      "metadata": {},
      "outputs": [],
      "source": [
        "def clean_poem_html(html):\n",
        "    html = re.sub(r\"<img.*?>\", \"\", html, flags=re.IGNORECASE)\n",
        "    html = re.sub(r\"<i>.*?</i>\", \"\", html, flags=re.IGNORECASE | re.DOTALL)\n",
        "    html = re.sub(r\"<b>(.*?)</b>(?!\\s*(?:<br\\s*/?>\\s*){2,})\", r\"\\1\", html, flags=re.IGNORECASE)\n",
        "    html = re.sub(r\"<br\\s*/?>\", \"\\n\", html, flags=re.IGNORECASE)\n",
        "    html = re.sub(r\"</?p>\", \"\", html, flags=re.IGNORECASE)\n",
        "\n",
        "    return html.strip()\n",
        "\n",
        "def process_poem_content(html, poem_src, poem_url, default_title=\"\"):\n",
        "    cleaned = clean_poem_html(html)\n",
        "\n",
        "    pattern = re.compile(r\"<b>(.*?)</b>\\s*\\n{2,}\", flags=re.IGNORECASE)\n",
        "    matches = list(pattern.finditer(cleaned))\n",
        "\n",
        "    poems = []\n",
        "    if matches:\n",
        "        for i, match in enumerate(matches):\n",
        "            title = match.group(1).strip()\n",
        "            start = match.end()\n",
        "            end = matches[i+1].start() if i + 1 < len(matches) else len(cleaned)\n",
        "            content = cleaned[start:end].strip(\"\\n\")\n",
        "            poems.append({\n",
        "                \"title\": title,\n",
        "                \"content\": content,\n",
        "                \"source\": poem_src,\n",
        "                \"url\": poem_url\n",
        "            })\n",
        "    else:\n",
        "        poems.append({\n",
        "            \"title\": default_title,\n",
        "            \"content\": cleaned,\n",
        "            \"source\": poem_src,\n",
        "            \"url\": poem_url\n",
        "        })\n",
        "    return poems"
      ]
    },
    {
      "cell_type": "code",
      "execution_count": 13,
      "metadata": {},
      "outputs": [],
      "source": [
        "def scrape_poem(driver, poem_url):\n",
        "    driver.get(poem_url)\n",
        "    time.sleep(random.uniform(3, 5))\n",
        "\n",
        "    poem_content_tag = WebDriverWait(driver, 10).until(\n",
        "        EC.visibility_of_element_located((By.CSS_SELECTOR, \"div.poem-content\"))\n",
        "    )\n",
        "\n",
        "    html_content = poem_content_tag.get_attribute(\"innerHTML\")\n",
        "\n",
        "    try:\n",
        "        poem_src_tag = WebDriverWait(driver, 10).until(\n",
        "            EC.presence_of_element_located((By.XPATH, '//div[@class=\"small\"]'))\n",
        "        )\n",
        "        poem_src = poem_src_tag.text\n",
        "    except Exception:\n",
        "        poem_src = \"\"\n",
        "    return process_poem_content(html_content, poem_src, poem_url)\n",
        "\n",
        "def scrape_poems(driver, num_pages=10):\n",
        "    datasets = []\n",
        "    for page_idx in tqdm(range(1, num_pages + 1)):\n",
        "        poem_links = extract_poem_links(driver, page_idx)\n",
        "        for poem in poem_links:\n",
        "            poem_url = poem[\"url\"]\n",
        "            try:\n",
        "                poems = scrape_poem(driver, poem_url)\n",
        "                datasets.extend(poems)\n",
        "            except Exception as e:\n",
        "                print(f\"Error processing {poem_url}: {e}\")\n",
        "                continue\n",
        "    return datasets"
      ]
    },
    {
      "cell_type": "code",
      "execution_count": 14,
      "metadata": {},
      "outputs": [
        {
          "name": "stderr",
          "output_type": "stream",
          "text": [
            "  0%|          | 0/10 [00:00<?, ?it/s]"
          ]
        },
        {
          "name": "stderr",
          "output_type": "stream",
          "text": [
            " 40%|████      | 4/10 [04:03<06:02, 60.39s/it]"
          ]
        },
        {
          "name": "stdout",
          "output_type": "stream",
          "text": [
            "Error processing https://www.thivien.net/Tu%E1%BB%87-S%E1%BB%B9/18/poem-vvXMqDr3PYay-7iOBtJn6A: Message: \n",
            "Stacktrace:\n",
            "\tGetHandleVerifier [0x00007FF706D8E735+13397]\n",
            "\tMicrosoft::Applications::Events::EventProperty::empty [0x00007FF70701B234+2060404]\n",
            "\tMicrosoft::Applications::Events::EventProperty::empty [0x00007FF706F72338+1368440]\n",
            "\t(No symbol) [0x00007FF706B632A9]\n",
            "\t(No symbol) [0x00007FF706B6349B]\n",
            "\t(No symbol) [0x00007FF706BA40E7]\n",
            "\t(No symbol) [0x00007FF706B8429F]\n",
            "\t(No symbol) [0x00007FF706B5964D]\n",
            "\t(No symbol) [0x00007FF706BA1C00]\n",
            "\t(No symbol) [0x00007FF706B83FC3]\n",
            "\t(No symbol) [0x00007FF706B58B96]\n",
            "\t(No symbol) [0x00007FF706B57E50]\n",
            "\t(No symbol) [0x00007FF706B589C3]\n",
            "\t(No symbol) [0x00007FF706BE0214]\n",
            "\t(No symbol) [0x00007FF706C706CF]\n",
            "\t(No symbol) [0x00007FF706BE3A53]\n",
            "\tMicrosoft::Applications::Events::EventProperty::to_string [0x00007FF7070D463D+279981]\n",
            "\tsimdutf::get_active_implementation [0x00007FF706D178C1+409425]\n",
            "\tsimdutf::get_active_implementation [0x00007FF706D12BA4+389684]\n",
            "\tsimdutf::get_active_implementation [0x00007FF706D12CE9+390009]\n",
            "\tsimdutf::get_active_implementation [0x00007FF706D062E6+338294]\n",
            "\tBaseThreadInitThunk [0x00007FFA8F1F259D+29]\n",
            "\tRtlUserThreadStart [0x00007FFA90BAAF38+40]\n",
            "\n",
            "Error processing https://www.thivien.net/Tu%E1%BB%87-S%E1%BB%B9/7/poem-IeN7OAC2iSw_jmEooFXqag: Message: \n",
            "Stacktrace:\n",
            "\tGetHandleVerifier [0x00007FF706D8E735+13397]\n",
            "\tMicrosoft::Applications::Events::EventProperty::empty [0x00007FF70701B234+2060404]\n",
            "\tMicrosoft::Applications::Events::EventProperty::empty [0x00007FF706F72338+1368440]\n",
            "\t(No symbol) [0x00007FF706B632A9]\n",
            "\t(No symbol) [0x00007FF706B6349B]\n",
            "\t(No symbol) [0x00007FF706BA40E7]\n",
            "\t(No symbol) [0x00007FF706B8429F]\n",
            "\t(No symbol) [0x00007FF706B5964D]\n",
            "\t(No symbol) [0x00007FF706BA1C00]\n",
            "\t(No symbol) [0x00007FF706B83FC3]\n",
            "\t(No symbol) [0x00007FF706B58B96]\n",
            "\t(No symbol) [0x00007FF706B57E50]\n",
            "\t(No symbol) [0x00007FF706B589C3]\n",
            "\t(No symbol) [0x00007FF706BE0214]\n",
            "\t(No symbol) [0x00007FF706C706CF]\n",
            "\t(No symbol) [0x00007FF706BE3A53]\n",
            "\tMicrosoft::Applications::Events::EventProperty::to_string [0x00007FF7070D463D+279981]\n",
            "\tsimdutf::get_active_implementation [0x00007FF706D178C1+409425]\n",
            "\tsimdutf::get_active_implementation [0x00007FF706D12BA4+389684]\n",
            "\tsimdutf::get_active_implementation [0x00007FF706D12CE9+390009]\n",
            "\tsimdutf::get_active_implementation [0x00007FF706D062E6+338294]\n",
            "\tBaseThreadInitThunk [0x00007FFA8F1F259D+29]\n",
            "\tRtlUserThreadStart [0x00007FFA90BAAF38+40]\n",
            "\n"
          ]
        },
        {
          "name": "stderr",
          "output_type": "stream",
          "text": [
            " 90%|█████████ | 9/10 [12:16<01:31, 91.70s/it]"
          ]
        },
        {
          "name": "stdout",
          "output_type": "stream",
          "text": [
            "Error processing https://www.thivien.net/L%C3%AA-Th%E1%BB%8B-Kim/Ai-n%C3%ADu-m%C3%B9a-xu%C3%A2n-%C4%91%E1%BA%A5y/poem-mHKUylp0Ay4_lEHEyPiDHw: HTTPConnectionPool(host='localhost', port=55828): Read timed out. (read timeout=120)\n",
            "Error processing https://www.thivien.net/%C4%90%E1%BB%97-Qu%E1%BA%A3ng-H%C3%A0n/Ai-v%E1%BB%81-khuya/poem-Ryze7jz3QInxVqCI5EnYBg: HTTPConnectionPool(host='localhost', port=55828): Read timed out. (read timeout=120)\n",
            "Error processing https://www.thivien.net/Nguy%E1%BB%85n-Thu%E1%BB%B5-Kha/%C3%81m-%E1%BA%A3nh/poem-cbnm6wwjWHryVa3JGYypuA: HTTPConnectionPool(host='localhost', port=55828): Read timed out. (read timeout=120)\n",
            "Error processing https://www.thivien.net/T%C3%B4-H%C3%A0/%C3%81m-%E1%BA%A3nh/poem-KW4MtfU0KfNqvVvvLIFv0A: HTTPConnectionPool(host='localhost', port=55828): Read timed out. (read timeout=120)\n",
            "Error processing https://www.thivien.net/%C4%90%E1%BB%97-Qu%E1%BA%A3ng-H%C3%A0n/%C3%81m-%E1%BA%A3nh-s%C3%B4ng-x%C6%B0a/poem-J56x5YUFt2msQ9DpMTHETQ: HTTPConnectionPool(host='localhost', port=55828): Read timed out. (read timeout=120)\n",
            "Error processing https://www.thivien.net/L%C3%A2u-V%C4%83n-Mua/%C3%81ng-d%C6%B0%C6%A1ng-kh%C3%B4ng-bi%E1%BA%BFt-s%E1%BA%A7u/poem-AQptKl9V4idQLzDuWi5CtA: HTTPConnectionPool(host='localhost', port=55828): Read timed out. (read timeout=120)\n"
          ]
        },
        {
          "name": "stderr",
          "output_type": "stream",
          "text": [
            "100%|██████████| 10/10 [25:43<00:00, 154.36s/it]\n"
          ]
        }
      ],
      "source": [
        "datasets = scrape_poems(driver, num_pages=10)\n",
        "driver.quit()"
      ]
    },
    {
      "cell_type": "code",
      "execution_count": 15,
      "metadata": {},
      "outputs": [],
      "source": [
        "# Lưu thành file csv\n",
        "df2 = pd.DataFrame(datasets)\n",
        "df2.to_csv('poem_dataset2.csv', index=True)"
      ]
    },
    {
      "cell_type": "code",
      "execution_count": 16,
      "metadata": {},
      "outputs": [
        {
          "data": {
            "text/html": [
              "<div>\n",
              "<style scoped>\n",
              "    .dataframe tbody tr th:only-of-type {\n",
              "        vertical-align: middle;\n",
              "    }\n",
              "\n",
              "    .dataframe tbody tr th {\n",
              "        vertical-align: top;\n",
              "    }\n",
              "\n",
              "    .dataframe thead th {\n",
              "        text-align: right;\n",
              "    }\n",
              "</style>\n",
              "<table border=\"1\" class=\"dataframe\">\n",
              "  <thead>\n",
              "    <tr style=\"text-align: right;\">\n",
              "      <th></th>\n",
              "      <th>title</th>\n",
              "      <th>content</th>\n",
              "      <th>source</th>\n",
              "      <th>url</th>\n",
              "    </tr>\n",
              "  </thead>\n",
              "  <tbody>\n",
              "    <tr>\n",
              "      <th>0</th>\n",
              "      <td></td>\n",
              "      <td>Bạn xấu như chiếc bóng\\nCứ bám riết theo anh\\n...</td>\n",
              "      <td>[Thông tin 1 nguồn tham khảo đã được ẩn]</td>\n",
              "      <td>https://www.thivien.net/Th%C3%A1i-B%C3%A1-T%C3...</td>\n",
              "    </tr>\n",
              "    <tr>\n",
              "      <th>1</th>\n",
              "      <td></td>\n",
              "      <td>Cái làm ta hạnh phúc\\nThực ra cũng chẳng nhiều...</td>\n",
              "      <td>[Thông tin 1 nguồn tham khảo đã được ẩn]</td>\n",
              "      <td>https://www.thivien.net/Th%C3%A1i-B%C3%A1-T%C3...</td>\n",
              "    </tr>\n",
              "    <tr>\n",
              "      <th>2</th>\n",
              "      <td></td>\n",
              "      <td>Chiều vừa xốp trên tay\\nChợt nghe thoáng ong b...</td>\n",
              "      <td>[Thông tin 1 nguồn tham khảo đã được ẩn]</td>\n",
              "      <td>https://www.thivien.net/L%C3%A2m-Huy-Nhu%E1%BA...</td>\n",
              "    </tr>\n",
              "    <tr>\n",
              "      <th>3</th>\n",
              "      <td></td>\n",
              "      <td>Chơi thân không có nghĩa\\nKhông cãi nhau bao g...</td>\n",
              "      <td>[Thông tin 1 nguồn tham khảo đã được ẩn]</td>\n",
              "      <td>https://www.thivien.net/Th%C3%A1i-B%C3%A1-T%C3...</td>\n",
              "    </tr>\n",
              "    <tr>\n",
              "      <th>4</th>\n",
              "      <td></td>\n",
              "      <td>Có thể buồn chút ít\\nMột mình, không người yêu...</td>\n",
              "      <td>[Thông tin 1 nguồn tham khảo đã được ẩn]</td>\n",
              "      <td>https://www.thivien.net/Th%C3%A1i-B%C3%A1-T%C3...</td>\n",
              "    </tr>\n",
              "  </tbody>\n",
              "</table>\n",
              "</div>"
            ],
            "text/plain": [
              "  title                                            content  \\\n",
              "0        Bạn xấu như chiếc bóng\\nCứ bám riết theo anh\\n...   \n",
              "1        Cái làm ta hạnh phúc\\nThực ra cũng chẳng nhiều...   \n",
              "2        Chiều vừa xốp trên tay\\nChợt nghe thoáng ong b...   \n",
              "3        Chơi thân không có nghĩa\\nKhông cãi nhau bao g...   \n",
              "4        Có thể buồn chút ít\\nMột mình, không người yêu...   \n",
              "\n",
              "                                     source  \\\n",
              "0  [Thông tin 1 nguồn tham khảo đã được ẩn]   \n",
              "1  [Thông tin 1 nguồn tham khảo đã được ẩn]   \n",
              "2  [Thông tin 1 nguồn tham khảo đã được ẩn]   \n",
              "3  [Thông tin 1 nguồn tham khảo đã được ẩn]   \n",
              "4  [Thông tin 1 nguồn tham khảo đã được ẩn]   \n",
              "\n",
              "                                                 url  \n",
              "0  https://www.thivien.net/Th%C3%A1i-B%C3%A1-T%C3...  \n",
              "1  https://www.thivien.net/Th%C3%A1i-B%C3%A1-T%C3...  \n",
              "2  https://www.thivien.net/L%C3%A2m-Huy-Nhu%E1%BA...  \n",
              "3  https://www.thivien.net/Th%C3%A1i-B%C3%A1-T%C3...  \n",
              "4  https://www.thivien.net/Th%C3%A1i-B%C3%A1-T%C3...  "
            ]
          },
          "execution_count": 16,
          "metadata": {},
          "output_type": "execute_result"
        }
      ],
      "source": [
        "df2.head()"
      ]
    }
  ],
  "metadata": {
    "colab": {
      "provenance": []
    },
    "kernelspec": {
      "display_name": "aio2024-exercise",
      "language": "python",
      "name": "python3"
    },
    "language_info": {
      "codemirror_mode": {
        "name": "ipython",
        "version": 3
      },
      "file_extension": ".py",
      "mimetype": "text/x-python",
      "name": "python",
      "nbconvert_exporter": "python",
      "pygments_lexer": "ipython3",
      "version": "3.11.11"
    }
  },
  "nbformat": 4,
  "nbformat_minor": 0
}
