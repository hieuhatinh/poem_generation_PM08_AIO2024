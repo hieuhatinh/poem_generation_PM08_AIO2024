{
  "cells": [
    {
      "cell_type": "markdown",
      "metadata": {
        "id": "sL6Wk_z_fl6O"
      },
      "source": [
        "### Tải thư viện Selenium\n",
        "- Đối với máy tính cá nhân dùng lệnh: `pip install selenium webdriver_manager`\n",
        "- Đối với colab, sử dụng cell bên dưới để tải selenium"
      ]
    },
    {
      "cell_type": "code",
      "execution_count": 1,
      "metadata": {
        "id": "TJ8Hgtxie3oU"
      },
      "outputs": [],
      "source": [
        "# %%shell\n",
        "# # Ubuntu no longer distributes chromium-browser outside of snap\n",
        "# #\n",
        "# # Proposed solution: https://askubuntu.com/questions/1204571/how-to-install-chromium-without-snap\n",
        "\n",
        "# # Add debian buster\n",
        "# cat > /etc/apt/sources.list.d/debian.list << \"EOF\"\n",
        "# deb [arch=amd64 signed-by=/usr/share/keyrings/debian-buster.gpg] http://deb.debian.org/debian buster main\n",
        "# deb [arch=amd64 signed-by=/usr/share/keyrings/debian-buster-updates.gpg] http://deb.debian.org/debian buster-updates main\n",
        "# deb [arch=amd64 signed-by=/usr/share/keyrings/debian-security-buster.gpg] http://deb.debian.org/debian-security buster/updates main\n",
        "# EOF\n",
        "\n",
        "# # Add keys\n",
        "# apt-key adv--keyserver keyserver.ubuntu.com--recv-keys DCC9EFBF77E11517\n",
        "# apt-key adv--keyserver keyserver.ubuntu.com--recv-keys 648ACFD622F3D138\n",
        "# apt-key adv--keyserver keyserver.ubuntu.com--recv-keys 112695A0E562B32A\n",
        "\n",
        "# apt-key export 77E11517 | gpg--dearmour-o /usr/share/keyrings/debian-buster.gpg\n",
        "# apt-key export 22F3D138 | gpg--dearmour-o /usr/share/keyrings/debian-buster-updates.gpg\n",
        "# apt-key export E562B32A | gpg--dearmour-o /usr/share/keyrings/debian-security-buster.gpg\n",
        "\n",
        "# # Prefer debian repo for chromium* packages only\n",
        "# # Note the double-blank lines between entries\n",
        "# cat > /etc/apt/preferences.d/chromium.pref << \"EOF\"\n",
        "# Package: *\n",
        "# Pin: release a=eoan\n",
        "# Pin-Priority: 500\n",
        "\n",
        "\n",
        "# Package: *\n",
        "# Pin: origin \"deb.debian.org\"\n",
        "# Pin-Priority: 300\n",
        "\n",
        "\n",
        "# Package: chromium*\n",
        "# Pin: origin \"deb.debian.org\"\n",
        "# Pin-Priority: 700\n",
        "# EOF\n",
        "\n",
        "# # Install chromium and chromium-driver\n",
        "# apt-get update\n",
        "# apt-get install chromium chromium-driver\n",
        "\n",
        "# # Install selenium\n",
        "# pip install selenium"
      ]
    },
    {
      "cell_type": "markdown",
      "metadata": {
        "id": "zxVnq3m_gIzD"
      },
      "source": [
        "### Import các thư viện cần thiết"
      ]
    },
    {
      "cell_type": "code",
      "execution_count": 1,
      "metadata": {
        "id": "kH5WaM6AgIey"
      },
      "outputs": [],
      "source": [
        "import pandas as pd\n",
        "import re\n",
        "import os\n",
        "import requests\n",
        "import time\n",
        "import random\n",
        "\n",
        "from tqdm import tqdm\n",
        "from selenium import webdriver\n",
        "from selenium.webdriver.chrome.service import Service\n",
        "from selenium.webdriver.common.by import By\n",
        "from selenium.webdriver.support.ui import WebDriverWait\n",
        "from selenium.webdriver.support import expected_conditions as EC"
      ]
    },
    {
      "cell_type": "markdown",
      "metadata": {
        "id": "Ns1quSp3ggLp"
      },
      "source": [
        "### Khởi tạo Selenium driver    \n",
        "Driver trong Selenium đóng vai trò như trình duyệt web, giúp thực hiện các thao tác như truy cập vào trang web dựa vào đường dẫn, thao tác chuyển trang,..."
      ]
    },
    {
      "cell_type": "code",
      "execution_count": 2,
      "metadata": {
        "id": "GSSS0LzNe8ml"
      },
      "outputs": [],
      "source": [
        "WEBDRIVER_DELAY_TIME_INT = 10\n",
        "TIMEOUT_INT = 10\n",
        "service = Service()\n",
        "chrome_options = webdriver.EdgeOptions()\n",
        "chrome_options.add_argument(\"--headless\")\n",
        "chrome_options.add_argument(\"--no-sandbox\")\n",
        "chrome_options.add_argument(\"--disable-dev-shm-usage\")\n",
        "chrome_options.add_argument(\"window-size=1920x1080\")\n",
        "chrome_options.headless = True\n",
        "driver = webdriver.Edge(service=service, options=chrome_options)\n",
        "driver.implicitly_wait(TIMEOUT_INT)\n",
        "wait = WebDriverWait(driver, WEBDRIVER_DELAY_TIME_INT)"
      ]
    },
    {
      "cell_type": "markdown",
      "metadata": {
        "id": "CS3r6PkdgyTL"
      },
      "source": [
        "### Trích xuất nội dung thơ\n",
        "- Dữ liệu về các bài thơ sẽ được lấy từ trang web [thivien.net](https://www.thivien.net/)"
      ]
    },
    {
      "cell_type": "markdown",
      "metadata": {},
      "source": [
        "#### Tự code"
      ]
    },
    {
      "cell_type": "code",
      "execution_count": 4,
      "metadata": {
        "id": "ceKILzjCe8jy"
      },
      "outputs": [
        {
          "data": {
            "text/plain": [
              "100"
            ]
          },
          "execution_count": 4,
          "metadata": {},
          "output_type": "execute_result"
        }
      ],
      "source": [
        "def extract_poem_links(driver, url):\n",
        "    driver.get(url)\n",
        "    content_tags_xpath = '//*[@class=\"page-content container\"]//div[@class=\"page-content-main\"]//div[@class=\"list-item\"]'\n",
        "    content_tags = driver.find_elements(By.XPATH, content_tags_xpath)\n",
        "    \n",
        "    poem_links = []\n",
        "    for tag in content_tags:\n",
        "        try: \n",
        "            link_element = tag.find_element(By.XPATH, './/h4[@class=\"list-item-header\"]/a')\n",
        "            title = link_element.text\n",
        "            link = link_element.get_attribute('href')\n",
        "            poem_links.append({\n",
        "                'title': title, \n",
        "                'link': link\n",
        "            })\n",
        "        except Exception as e: \n",
        "            print(f'Error extracting link: {e}')\n",
        "            continue\n",
        "    return poem_links\n",
        "\n",
        "poem_links = []\n",
        "for i in range(1, 11):\n",
        "    links = extract_poem_links(driver, \n",
        "                           url=f'https://www.thivien.net/searchpoem.php?PoemType=16&ViewType=1&Country=2&Page={i}')\n",
        "    poem_links.extend(links)\n",
        "len(poem_links)"
      ]
    },
    {
      "cell_type": "code",
      "execution_count": 5,
      "metadata": {
        "id": "yXkhh7FUe8hJ"
      },
      "outputs": [],
      "source": [
        "def scrape_poems(driver, poem_links):\n",
        "    datasets = [] \n",
        "    for poem_link_idx in tqdm(range(len(poem_links))): \n",
        "        link = poem_links[poem_link_idx]['link']\n",
        "        try:\n",
        "            driver.get(link)\n",
        "            time.sleep(random.uniform(3, 5))\n",
        "            \n",
        "            content = driver.find_element(By.XPATH, '//div[@class=\"poem-content\"]/p')\n",
        "            src_tag = driver.find_element(By.XPATH, '//div[@class=\"small\"]')\n",
        "            poem = {\n",
        "                'title': poem_links[poem_link_idx]['title'],\n",
        "                'content': content.text, \n",
        "                'source': src_tag.text, \n",
        "                'link': link, \n",
        "            }\n",
        "            datasets.append(poem)\n",
        "        except Exception as e:\n",
        "            print(f'Error processing {link}: {e}')\n",
        "    return datasets  "
      ]
    },
    {
      "cell_type": "code",
      "execution_count": null,
      "metadata": {
        "id": "6sD3JiPVe8eV"
      },
      "outputs": [],
      "source": [
        "datasets = scrape_poems(driver=driver, poem_links=poem_links)"
      ]
    },
    {
      "cell_type": "code",
      "execution_count": 7,
      "metadata": {},
      "outputs": [
        {
          "data": {
            "text/plain": [
              "75"
            ]
          },
          "execution_count": 7,
          "metadata": {},
          "output_type": "execute_result"
        }
      ],
      "source": [
        "len(datasets)"
      ]
    },
    {
      "cell_type": "code",
      "execution_count": 8,
      "metadata": {
        "id": "6zCYT4p5e8bx"
      },
      "outputs": [],
      "source": [
        "# lưu thành file csv\n",
        "df = pd.DataFrame(datasets)\n",
        "df.to_csv('poem_dataset.csv', index=True)"
      ]
    },
    {
      "cell_type": "code",
      "execution_count": 9,
      "metadata": {},
      "outputs": [
        {
          "name": "stdout",
          "output_type": "stream",
          "text": [
            "<class 'pandas.core.frame.DataFrame'>\n",
            "RangeIndex: 75 entries, 0 to 74\n",
            "Data columns (total 4 columns):\n",
            " #   Column   Non-Null Count  Dtype \n",
            "---  ------   --------------  ----- \n",
            " 0   title    75 non-null     object\n",
            " 1   content  75 non-null     object\n",
            " 2   source   75 non-null     object\n",
            " 3   link     75 non-null     object\n",
            "dtypes: object(4)\n",
            "memory usage: 2.5+ KB\n"
          ]
        }
      ],
      "source": [
        "df.info()"
      ]
    },
    {
      "cell_type": "markdown",
      "metadata": {},
      "source": [
        "#### code AIO"
      ]
    },
    {
      "cell_type": "code",
      "execution_count": 3,
      "metadata": {},
      "outputs": [],
      "source": [
        "def extract_poem_links(driver, page_idx):\n",
        "    main_url = f\"https://www.thivien.net/searchpoem.php?PoemType=16&ViewType=1&Country=2&Age[]=3&Page={page_idx}\"\n",
        "    driver.get(main_url)\n",
        "    time.sleep(random.uniform(3, 5))\n",
        "\n",
        "    content_tags_xpath = '//*[@class=\"page-content container\"]//div[@class=\"page-content-main\"]//div[@class=\"list-item\"]'\n",
        "    content_tags = driver.find_elements(By.XPATH, content_tags_xpath)\n",
        "    poem_links = []\n",
        "    for tag in content_tags:\n",
        "        try:\n",
        "            link_element = tag.find_element(By.XPATH, './/h4[@class=\"list-item-header\"]/a')\n",
        "            poem_title = link_element.text\n",
        "            poem_url = link_element.get_attribute(\"href\")\n",
        "            poem_links.append({\"title\": poem_title, \"url\": poem_url})\n",
        "        except Exception as e:\n",
        "            print(f\"Error extracting link: {e}\")\n",
        "            continue\n",
        "    return poem_links"
      ]
    },
    {
      "cell_type": "code",
      "execution_count": 4,
      "metadata": {},
      "outputs": [],
      "source": [
        "def clean_poem_html(html):\n",
        "    html = re.sub(r\"<img.*?>\", \"\", html, flags=re.IGNORECASE)\n",
        "    html = re.sub(r\"<i>.*?</i>\", \"\", html, flags=re.IGNORECASE | re.DOTALL)\n",
        "    html = re.sub(r\"<b>(.*?)</b>(?!\\s*(?:<br\\s*/?>\\s*){2,})\", r\"\\1\", html, flags=re.IGNORECASE)\n",
        "    html = re.sub(r\"<br\\s*/?>\", \"\\n\", html, flags=re.IGNORECASE)\n",
        "    html = re.sub(r\"</?p>\", \"\", html, flags=re.IGNORECASE)\n",
        "\n",
        "    return html.strip()\n",
        "\n",
        "def process_poem_content(html, poem_src, poem_url, default_title=\"\"):\n",
        "    cleaned = clean_poem_html(html)\n",
        "\n",
        "    pattern = re.compile(r\"<b>(.*?)</b>\\s*\\n{2,}\", flags=re.IGNORECASE)\n",
        "    matches = list(pattern.finditer(cleaned))\n",
        "\n",
        "    poems = []\n",
        "    if matches:\n",
        "        for i, match in enumerate(matches):\n",
        "            title = match.group(1).strip()\n",
        "            start = match.end()\n",
        "            end = matches[i+1].start() if i + 1 < len(matches) else len(cleaned)\n",
        "            content = cleaned[start:end].strip(\"\\n\")\n",
        "            poems.append({\n",
        "                \"title\": title,\n",
        "                \"content\": content,\n",
        "                \"source\": poem_src,\n",
        "                \"url\": poem_url\n",
        "            })\n",
        "    else:\n",
        "        poems.append({\n",
        "            \"title\": default_title,\n",
        "            \"content\": cleaned,\n",
        "            \"source\": poem_src,\n",
        "            \"url\": poem_url\n",
        "        })\n",
        "    return poems"
      ]
    },
    {
      "cell_type": "code",
      "execution_count": 5,
      "metadata": {},
      "outputs": [],
      "source": [
        "def scrape_poem(driver, poem_url, default_title):\n",
        "    driver.get(poem_url)\n",
        "    time.sleep(random.uniform(3, 5))\n",
        "\n",
        "    poem_content_tag = WebDriverWait(driver, 10).until(\n",
        "        EC.visibility_of_element_located((By.CSS_SELECTOR, \"div.poem-content\"))\n",
        "    )\n",
        "\n",
        "    html_content = poem_content_tag.get_attribute(\"innerHTML\")\n",
        "\n",
        "    try:\n",
        "        poem_src_tag = WebDriverWait(driver, 10).until(\n",
        "            EC.presence_of_element_located((By.XPATH, '//div[@class=\"small\"]'))\n",
        "        )\n",
        "        poem_src = poem_src_tag.text\n",
        "    except Exception:\n",
        "        poem_src = \"\"\n",
        "    return process_poem_content(html_content, poem_src, poem_url, default_title)\n",
        "\n",
        "def scrape_poems(driver, num_pages=10):\n",
        "    datasets = []\n",
        "    for page_idx in tqdm(range(1, num_pages + 1)):\n",
        "        poem_links = extract_poem_links(driver, page_idx)\n",
        "        for poem in poem_links:\n",
        "            poem_url = poem[\"url\"]\n",
        "            try:\n",
        "                poems = scrape_poem(driver, poem_url, default_title=poem['title'])\n",
        "                datasets.extend(poems)\n",
        "            except Exception as e:\n",
        "                print(f\"Error processing {poem_url}: {e}\")\n",
        "                continue\n",
        "    return datasets"
      ]
    },
    {
      "cell_type": "code",
      "execution_count": 6,
      "metadata": {},
      "outputs": [
        {
          "name": "stderr",
          "output_type": "stream",
          "text": [
            "  0%|          | 0/10 [00:00<?, ?it/s]"
          ]
        },
        {
          "name": "stderr",
          "output_type": "stream",
          "text": [
            " 40%|████      | 4/10 [03:53<05:46, 57.75s/it]"
          ]
        },
        {
          "name": "stdout",
          "output_type": "stream",
          "text": [
            "Error processing https://www.thivien.net/Tu%E1%BB%87-S%E1%BB%B9/18/poem-vvXMqDr3PYay-7iOBtJn6A: Message: \n",
            "Stacktrace:\n",
            "\tGetHandleVerifier [0x00007FF738BCA7D5+20677]\n",
            "\tsimdutf::get_active_implementation [0x00007FF738B26F80+492656]\n",
            "\tMicrosoft::Applications::Events::EventProperty::to_string [0x00007FF738E1DC8A+1807418]\n",
            "\t(No symbol) [0x00007FF7389672AC]\n",
            "\t(No symbol) [0x00007FF73896758B]\n",
            "\t(No symbol) [0x00007FF7389A85A7]\n",
            "\t(No symbol) [0x00007FF73898849F]\n",
            "\t(No symbol) [0x00007FF73895D6ED]\n",
            "\t(No symbol) [0x00007FF7389A5D61]\n",
            "\t(No symbol) [0x00007FF7389881C3]\n",
            "\t(No symbol) [0x00007FF73895CC36]\n",
            "\t(No symbol) [0x00007FF73895C0C4]\n",
            "\t(No symbol) [0x00007FF73895CA63]\n",
            "\t(No symbol) [0x00007FF738A458DD]\n",
            "\t(No symbol) [0x00007FF738A51D42]\n",
            "\t(No symbol) [0x00007FF738A4A703]\n",
            "\tMicrosoft::Applications::Events::EventProperty::to_string [0x00007FF738CA47DA+262026]\n",
            "\tsimdutf::get_active_implementation [0x00007FF738B346B1+547745]\n",
            "\tsimdutf::get_active_implementation [0x00007FF738B2D964+519764]\n",
            "\tsimdutf::get_active_implementation [0x00007FF738B2DAA9+520089]\n",
            "\tsimdutf::get_active_implementation [0x00007FF738B1F656+461638]\n",
            "\tBaseThreadInitThunk [0x00007FFA8F1F259D+29]\n",
            "\tRtlUserThreadStart [0x00007FFA90BAAF38+40]\n",
            "\n",
            "Error processing https://www.thivien.net/Tu%E1%BB%87-S%E1%BB%B9/7/poem-IeN7OAC2iSw_jmEooFXqag: Message: \n",
            "Stacktrace:\n",
            "\tGetHandleVerifier [0x00007FF738BCA7D5+20677]\n",
            "\tsimdutf::get_active_implementation [0x00007FF738B26F80+492656]\n",
            "\tMicrosoft::Applications::Events::EventProperty::to_string [0x00007FF738E1DC8A+1807418]\n",
            "\t(No symbol) [0x00007FF7389672AC]\n",
            "\t(No symbol) [0x00007FF73896758B]\n",
            "\t(No symbol) [0x00007FF7389A85A7]\n",
            "\t(No symbol) [0x00007FF73898849F]\n",
            "\t(No symbol) [0x00007FF73895D6ED]\n",
            "\t(No symbol) [0x00007FF7389A5D61]\n",
            "\t(No symbol) [0x00007FF7389881C3]\n",
            "\t(No symbol) [0x00007FF73895CC36]\n",
            "\t(No symbol) [0x00007FF73895C0C4]\n",
            "\t(No symbol) [0x00007FF73895CA63]\n",
            "\t(No symbol) [0x00007FF738A458DD]\n",
            "\t(No symbol) [0x00007FF738A51D42]\n",
            "\t(No symbol) [0x00007FF738A4A703]\n",
            "\tMicrosoft::Applications::Events::EventProperty::to_string [0x00007FF738CA47DA+262026]\n",
            "\tsimdutf::get_active_implementation [0x00007FF738B346B1+547745]\n",
            "\tsimdutf::get_active_implementation [0x00007FF738B2D964+519764]\n",
            "\tsimdutf::get_active_implementation [0x00007FF738B2DAA9+520089]\n",
            "\tsimdutf::get_active_implementation [0x00007FF738B1F656+461638]\n",
            "\tBaseThreadInitThunk [0x00007FFA8F1F259D+29]\n",
            "\tRtlUserThreadStart [0x00007FFA90BAAF38+40]\n",
            "\n",
            "Error processing https://www.thivien.net/Nguy%E1%BB%85n-Ng%E1%BB%8Dc-O%C3%A1nh/01/poem-Yo9aQueuAwgpnUbh6JBDZg: Message: \n",
            "Stacktrace:\n",
            "\tGetHandleVerifier [0x00007FF738BCA7D5+20677]\n",
            "\tsimdutf::get_active_implementation [0x00007FF738B26F80+492656]\n",
            "\tMicrosoft::Applications::Events::EventProperty::to_string [0x00007FF738E1DC8A+1807418]\n",
            "\t(No symbol) [0x00007FF7389672AC]\n",
            "\t(No symbol) [0x00007FF73896758B]\n",
            "\t(No symbol) [0x00007FF7389A85A7]\n",
            "\t(No symbol) [0x00007FF73898849F]\n",
            "\t(No symbol) [0x00007FF73895D6ED]\n",
            "\t(No symbol) [0x00007FF7389A5D61]\n",
            "\t(No symbol) [0x00007FF7389881C3]\n",
            "\t(No symbol) [0x00007FF73895CC36]\n",
            "\t(No symbol) [0x00007FF73895C0C4]\n",
            "\t(No symbol) [0x00007FF73895CA63]\n",
            "\t(No symbol) [0x00007FF738A458DD]\n",
            "\t(No symbol) [0x00007FF738A51D42]\n",
            "\t(No symbol) [0x00007FF738A4A703]\n",
            "\tMicrosoft::Applications::Events::EventProperty::to_string [0x00007FF738CA47DA+262026]\n",
            "\tsimdutf::get_active_implementation [0x00007FF738B346B1+547745]\n",
            "\tsimdutf::get_active_implementation [0x00007FF738B2D964+519764]\n",
            "\tsimdutf::get_active_implementation [0x00007FF738B2DAA9+520089]\n",
            "\tsimdutf::get_active_implementation [0x00007FF738B1F656+461638]\n",
            "\tBaseThreadInitThunk [0x00007FFA8F1F259D+29]\n",
            "\tRtlUserThreadStart [0x00007FFA90BAAF38+40]\n",
            "\n"
          ]
        },
        {
          "name": "stderr",
          "output_type": "stream",
          "text": [
            " 50%|█████     | 5/10 [05:32<06:03, 72.63s/it]"
          ]
        },
        {
          "name": "stdout",
          "output_type": "stream",
          "text": [
            "Error processing https://www.thivien.net/Tr%E1%BB%A5-V%C5%A9/01/poem-k6MlVSOJZfPvxk-XTGJRvA: Message: \n",
            "Stacktrace:\n",
            "\tGetHandleVerifier [0x00007FF738BCA7D5+20677]\n",
            "\tsimdutf::get_active_implementation [0x00007FF738B26F80+492656]\n",
            "\tMicrosoft::Applications::Events::EventProperty::to_string [0x00007FF738E1DC8A+1807418]\n",
            "\t(No symbol) [0x00007FF7389672AC]\n",
            "\t(No symbol) [0x00007FF73896758B]\n",
            "\t(No symbol) [0x00007FF7389A85A7]\n",
            "\t(No symbol) [0x00007FF73898849F]\n",
            "\t(No symbol) [0x00007FF73895D6ED]\n",
            "\t(No symbol) [0x00007FF7389A5D61]\n",
            "\t(No symbol) [0x00007FF7389881C3]\n",
            "\t(No symbol) [0x00007FF73895CC36]\n",
            "\t(No symbol) [0x00007FF73895C0C4]\n",
            "\t(No symbol) [0x00007FF73895CA63]\n",
            "\t(No symbol) [0x00007FF738A458DD]\n",
            "\t(No symbol) [0x00007FF738A51D42]\n",
            "\t(No symbol) [0x00007FF738A4A703]\n",
            "\tMicrosoft::Applications::Events::EventProperty::to_string [0x00007FF738CA47DA+262026]\n",
            "\tsimdutf::get_active_implementation [0x00007FF738B346B1+547745]\n",
            "\tsimdutf::get_active_implementation [0x00007FF738B2D964+519764]\n",
            "\tsimdutf::get_active_implementation [0x00007FF738B2DAA9+520089]\n",
            "\tsimdutf::get_active_implementation [0x00007FF738B1F656+461638]\n",
            "\tBaseThreadInitThunk [0x00007FFA8F1F259D+29]\n",
            "\tRtlUserThreadStart [0x00007FFA90BAAF38+40]\n",
            "\n"
          ]
        },
        {
          "name": "stderr",
          "output_type": "stream",
          "text": [
            "100%|██████████| 10/10 [13:41<00:00, 82.10s/it]\n"
          ]
        }
      ],
      "source": [
        "datasets = scrape_poems(driver, num_pages=10)\n",
        "driver.quit()"
      ]
    },
    {
      "cell_type": "code",
      "execution_count": 7,
      "metadata": {},
      "outputs": [],
      "source": [
        "# Lưu thành file csv\n",
        "df2 = pd.DataFrame(datasets)\n",
        "df2.to_csv('poem_dataset2.csv', index=True)"
      ]
    },
    {
      "cell_type": "code",
      "execution_count": 8,
      "metadata": {},
      "outputs": [
        {
          "data": {
            "text/html": [
              "<div>\n",
              "<style scoped>\n",
              "    .dataframe tbody tr th:only-of-type {\n",
              "        vertical-align: middle;\n",
              "    }\n",
              "\n",
              "    .dataframe tbody tr th {\n",
              "        vertical-align: top;\n",
              "    }\n",
              "\n",
              "    .dataframe thead th {\n",
              "        text-align: right;\n",
              "    }\n",
              "</style>\n",
              "<table border=\"1\" class=\"dataframe\">\n",
              "  <thead>\n",
              "    <tr style=\"text-align: right;\">\n",
              "      <th></th>\n",
              "      <th>title</th>\n",
              "      <th>content</th>\n",
              "      <th>source</th>\n",
              "      <th>url</th>\n",
              "    </tr>\n",
              "  </thead>\n",
              "  <tbody>\n",
              "    <tr>\n",
              "      <th>0</th>\n",
              "      <td>“Bạn xấu như chiếc bóng”</td>\n",
              "      <td>Bạn xấu như chiếc bóng\\nCứ bám riết theo anh\\n...</td>\n",
              "      <td>[Thông tin 1 nguồn tham khảo đã được ẩn]</td>\n",
              "      <td>https://www.thivien.net/Th%C3%A1i-B%C3%A1-T%C3...</td>\n",
              "    </tr>\n",
              "    <tr>\n",
              "      <th>1</th>\n",
              "      <td>“Cái làm ta hạnh phúc”</td>\n",
              "      <td>Cái làm ta hạnh phúc\\nThực ra cũng chẳng nhiều...</td>\n",
              "      <td>[Thông tin 1 nguồn tham khảo đã được ẩn]</td>\n",
              "      <td>https://www.thivien.net/Th%C3%A1i-B%C3%A1-T%C3...</td>\n",
              "    </tr>\n",
              "    <tr>\n",
              "      <th>2</th>\n",
              "      <td>“Chiều vừa xốp trên tay”</td>\n",
              "      <td>Chiều vừa xốp trên tay\\nChợt nghe thoáng ong b...</td>\n",
              "      <td>[Thông tin 1 nguồn tham khảo đã được ẩn]</td>\n",
              "      <td>https://www.thivien.net/L%C3%A2m-Huy-Nhu%E1%BA...</td>\n",
              "    </tr>\n",
              "    <tr>\n",
              "      <th>3</th>\n",
              "      <td>“Chơi thân không có nghĩa”</td>\n",
              "      <td>Chơi thân không có nghĩa\\nKhông cãi nhau bao g...</td>\n",
              "      <td>[Thông tin 1 nguồn tham khảo đã được ẩn]</td>\n",
              "      <td>https://www.thivien.net/Th%C3%A1i-B%C3%A1-T%C3...</td>\n",
              "    </tr>\n",
              "    <tr>\n",
              "      <th>4</th>\n",
              "      <td>“Có thể buồn chút ít”</td>\n",
              "      <td>Có thể buồn chút ít\\nMột mình, không người yêu...</td>\n",
              "      <td>[Thông tin 1 nguồn tham khảo đã được ẩn]</td>\n",
              "      <td>https://www.thivien.net/Th%C3%A1i-B%C3%A1-T%C3...</td>\n",
              "    </tr>\n",
              "  </tbody>\n",
              "</table>\n",
              "</div>"
            ],
            "text/plain": [
              "                        title  \\\n",
              "0    “Bạn xấu như chiếc bóng”   \n",
              "1      “Cái làm ta hạnh phúc”   \n",
              "2    “Chiều vừa xốp trên tay”   \n",
              "3  “Chơi thân không có nghĩa”   \n",
              "4       “Có thể buồn chút ít”   \n",
              "\n",
              "                                             content  \\\n",
              "0  Bạn xấu như chiếc bóng\\nCứ bám riết theo anh\\n...   \n",
              "1  Cái làm ta hạnh phúc\\nThực ra cũng chẳng nhiều...   \n",
              "2  Chiều vừa xốp trên tay\\nChợt nghe thoáng ong b...   \n",
              "3  Chơi thân không có nghĩa\\nKhông cãi nhau bao g...   \n",
              "4  Có thể buồn chút ít\\nMột mình, không người yêu...   \n",
              "\n",
              "                                     source  \\\n",
              "0  [Thông tin 1 nguồn tham khảo đã được ẩn]   \n",
              "1  [Thông tin 1 nguồn tham khảo đã được ẩn]   \n",
              "2  [Thông tin 1 nguồn tham khảo đã được ẩn]   \n",
              "3  [Thông tin 1 nguồn tham khảo đã được ẩn]   \n",
              "4  [Thông tin 1 nguồn tham khảo đã được ẩn]   \n",
              "\n",
              "                                                 url  \n",
              "0  https://www.thivien.net/Th%C3%A1i-B%C3%A1-T%C3...  \n",
              "1  https://www.thivien.net/Th%C3%A1i-B%C3%A1-T%C3...  \n",
              "2  https://www.thivien.net/L%C3%A2m-Huy-Nhu%E1%BA...  \n",
              "3  https://www.thivien.net/Th%C3%A1i-B%C3%A1-T%C3...  \n",
              "4  https://www.thivien.net/Th%C3%A1i-B%C3%A1-T%C3...  "
            ]
          },
          "execution_count": 8,
          "metadata": {},
          "output_type": "execute_result"
        }
      ],
      "source": [
        "df2.head()"
      ]
    }
  ],
  "metadata": {
    "colab": {
      "provenance": []
    },
    "kernelspec": {
      "display_name": "aio2024-exercise",
      "language": "python",
      "name": "python3"
    },
    "language_info": {
      "codemirror_mode": {
        "name": "ipython",
        "version": 3
      },
      "file_extension": ".py",
      "mimetype": "text/x-python",
      "name": "python",
      "nbconvert_exporter": "python",
      "pygments_lexer": "ipython3",
      "version": "3.11.11"
    }
  },
  "nbformat": 4,
  "nbformat_minor": 0
}
